{
  "nbformat": 4,
  "nbformat_minor": 0,
  "metadata": {
    "colab": {
      "provenance": []
    },
    "kernelspec": {
      "name": "python3",
      "display_name": "Python 3"
    },
    "language_info": {
      "name": "python"
    }
  },
  "cells": [
    {
      "cell_type": "code",
      "execution_count": null,
      "metadata": {
        "id": "kygcU5X_Rh29"
      },
      "outputs": [],
      "source": [
        "from collections import deque\n"
      ]
    },
    {
      "cell_type": "code",
      "source": [
        "def bfs(graph, start):\n",
        "    visited = set()\n",
        "    queue = deque([start])\n",
        "    visited.add(start)\n",
        "\n",
        "    while queue:\n",
        "        vertex = queue.popleft()\n",
        "        print(vertex, end=' ')\n",
        "\n",
        "        for neighbor in graph[vertex]:\n",
        "            if neighbor not in visited:\n",
        "                queue.append(neighbor)\n",
        "                visited.add(neighbor)\n"
      ],
      "metadata": {
        "id": "GtQfUcowRl94"
      },
      "execution_count": null,
      "outputs": []
    },
    {
      "cell_type": "code",
      "source": [
        "graph={\n",
        "    0:[1, 3],\n",
        "    1:[0, 2, 3],\n",
        "    2:[1, 4, 5],\n",
        "    3:[0, 1, 4],\n",
        "    4:[2, 3, 5],\n",
        "    5:[2, 4]\n",
        "}\n"
      ],
      "metadata": {
        "id": "doXTqUC9Rqoo"
      },
      "execution_count": null,
      "outputs": []
    },
    {
      "cell_type": "code",
      "source": [
        "\n",
        "\n",
        "start_vertex = 0\n",
        "print(\"BFS traversal starting from vertex\", start_vertex)\n",
        "bfs(graph, start_vertex)\n",
        "\n"
      ],
      "metadata": {
        "colab": {
          "base_uri": "https://localhost:8080/"
        },
        "id": "iavFCZN8Rsxm",
        "outputId": "d56bca66-fee8-4ec5-c600-bb4c7ac28c73"
      },
      "execution_count": null,
      "outputs": [
        {
          "output_type": "stream",
          "name": "stdout",
          "text": [
            "BFS traversal starting from vertex 0\n",
            "0 1 3 2 4 5 "
          ]
        }
      ]
    },
    {
      "cell_type": "code",
      "source": [
        "#definition\n",
        "\n",
        "def dfs2(graph, start):\n",
        "    visited = set()\n",
        "    stack = [start]\n",
        "\n",
        "    while stack:\n",
        "        vertex = stack.pop()\n",
        "\n",
        "        if vertex not in visited:\n",
        "            print(vertex, end=' ')\n",
        "            visited.add(vertex)\n",
        "\n",
        "            stack.extend(neighbor for neighbor in graph[vertex] if neighbor not in visited)"
      ],
      "metadata": {
        "id": "nH1qN1qNRxc_"
      },
      "execution_count": 31,
      "outputs": []
    },
    {
      "cell_type": "code",
      "source": [
        "graph = {\n",
        "    'A': ['B', 'S'],\n",
        "    'B': ['A'],\n",
        "    'C': ['D', 'E', 'F', 'S'],\n",
        "    'D': ['C'],\n",
        "    'E': ['C', 'H'],\n",
        "    'F': ['C', 'G'],\n",
        "    'G': ['F', 'H', 'S'],\n",
        "    'H': ['E', 'G'],\n",
        "    'S': ['A', 'C', 'G']\n",
        "}"
      ],
      "metadata": {
        "id": "2CNM2VpkR1Up"
      },
      "execution_count": 32,
      "outputs": []
    },
    {
      "cell_type": "code",
      "source": [
        "# Starting vertex and applying DFS with the second implementation\n",
        "start_vertex='A'\n",
        "print(\"DFS traversal starting from vertex\", start_vertex, \":\")\n",
        "dfs2(graph, start_vertex)\n",
        "\n"
      ],
      "metadata": {
        "colab": {
          "base_uri": "https://localhost:8080/"
        },
        "id": "fDnCOl59R3lU",
        "outputId": "4f5f5ed2-6622-4551-e2dd-c6621f4b27c9"
      },
      "execution_count": 34,
      "outputs": [
        {
          "output_type": "stream",
          "name": "stdout",
          "text": [
            "DFS traversal starting from vertex A :\n",
            "A S G H E C F D B "
          ]
        }
      ]
    },
    {
      "cell_type": "code",
      "source": [
        "import numpy as np\n",
        "\n",
        "# Define the initial and final states\n",
        "initial_state = np.array([[2, 8, 3],\n",
        "                          [1, 6, 4],\n",
        "                          [7, 0, 5]])\n",
        "\n",
        "final_state = np.array([[1, 2, 3],\n",
        "                        [8, 0, 4],\n",
        "                        [7, 6, 5]])\n"
      ],
      "metadata": {
        "id": "Dx359Om1R56k"
      },
      "execution_count": 35,
      "outputs": []
    },
    {
      "cell_type": "code",
      "source": [
        "# Define the heuristic function\n",
        "def heuristic(state):\n",
        "    # A simple heuristic: count the number of misplaced tiles\n",
        "    return np.sum(state != final_state)\n"
      ],
      "metadata": {
        "id": "TYdhYFZ3R8pG"
      },
      "execution_count": 36,
      "outputs": []
    },
    {
      "cell_type": "code",
      "source": [
        "# Call the A* algorithm with the initial and final states\n",
        "result=astar(initial_state, final_state, heuristic)\n",
        "# Print the result\n",
        "if result is not None:\n",
        "    print(\"Final State:\")\n",
        "    print(result)\n",
        "else:\n",
        "    print(\"A* algorithm did not find a solution.\")"
      ],
      "metadata": {
        "colab": {
          "base_uri": "https://localhost:8080/"
        },
        "id": "EZmDNHaLSA1p",
        "outputId": "6673e73d-af19-4281-8d4d-5d529bc58ca7"
      },
      "execution_count": 37,
      "outputs": [
        {
          "output_type": "stream",
          "name": "stdout",
          "text": [
            "Final State:\n",
            "[[1 2 3]\n",
            " [8 0 4]\n",
            " [7 6 5]]\n"
          ]
        }
      ]
    },
    {
      "cell_type": "code",
      "source": [],
      "metadata": {
        "id": "2QSgrQ7mSDeW"
      },
      "execution_count": null,
      "outputs": []
    }
  ]
}